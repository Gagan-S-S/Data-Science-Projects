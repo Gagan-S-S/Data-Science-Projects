{
 "cells": [
  {
   "cell_type": "markdown",
   "metadata": {},
   "source": [
    "###"
   ]
  },
  {
   "cell_type": "markdown",
   "metadata": {},
   "source": [
    "## Linear Regression: Student Performance Analysis and Prediction"
   ]
  },
  {
   "cell_type": "markdown",
   "metadata": {},
   "source": [
    "### Import necessary libraries"
   ]
  },
  {
   "cell_type": "code",
   "execution_count": 3,
   "metadata": {},
   "outputs": [],
   "source": [
    "import pandas as pd\n",
    "import numpy as np\n",
    "import matplotlib.pyplot as plt\n",
    "import seaborn as sns"
   ]
  },
  {
   "cell_type": "markdown",
   "metadata": {},
   "source": [
    "### Read the Dataset"
   ]
  },
  {
   "cell_type": "code",
   "execution_count": 4,
   "metadata": {},
   "outputs": [],
   "source": [
    "df = pd.read_csv(r\"C:\\Users\\dell\\Desktop\\Projects\\Multilinear regression\\Student_Performance.csv\")"
   ]
  },
  {
   "cell_type": "code",
   "execution_count": 5,
   "metadata": {},
   "outputs": [
    {
     "data": {
      "text/html": [
       "<div>\n",
       "<style scoped>\n",
       "    .dataframe tbody tr th:only-of-type {\n",
       "        vertical-align: middle;\n",
       "    }\n",
       "\n",
       "    .dataframe tbody tr th {\n",
       "        vertical-align: top;\n",
       "    }\n",
       "\n",
       "    .dataframe thead th {\n",
       "        text-align: right;\n",
       "    }\n",
       "</style>\n",
       "<table border=\"1\" class=\"dataframe\">\n",
       "  <thead>\n",
       "    <tr style=\"text-align: right;\">\n",
       "      <th></th>\n",
       "      <th>Hours Studied</th>\n",
       "      <th>Previous Scores</th>\n",
       "      <th>Extracurricular Activities</th>\n",
       "      <th>Sleep Hours</th>\n",
       "      <th>Sample Question Papers Practiced</th>\n",
       "      <th>Performance Index</th>\n",
       "    </tr>\n",
       "  </thead>\n",
       "  <tbody>\n",
       "    <tr>\n",
       "      <th>0</th>\n",
       "      <td>7</td>\n",
       "      <td>99</td>\n",
       "      <td>Yes</td>\n",
       "      <td>9</td>\n",
       "      <td>1</td>\n",
       "      <td>91.0</td>\n",
       "    </tr>\n",
       "    <tr>\n",
       "      <th>1</th>\n",
       "      <td>4</td>\n",
       "      <td>82</td>\n",
       "      <td>No</td>\n",
       "      <td>4</td>\n",
       "      <td>2</td>\n",
       "      <td>65.0</td>\n",
       "    </tr>\n",
       "    <tr>\n",
       "      <th>2</th>\n",
       "      <td>8</td>\n",
       "      <td>51</td>\n",
       "      <td>Yes</td>\n",
       "      <td>7</td>\n",
       "      <td>2</td>\n",
       "      <td>45.0</td>\n",
       "    </tr>\n",
       "    <tr>\n",
       "      <th>3</th>\n",
       "      <td>5</td>\n",
       "      <td>52</td>\n",
       "      <td>Yes</td>\n",
       "      <td>5</td>\n",
       "      <td>2</td>\n",
       "      <td>36.0</td>\n",
       "    </tr>\n",
       "    <tr>\n",
       "      <th>4</th>\n",
       "      <td>7</td>\n",
       "      <td>75</td>\n",
       "      <td>No</td>\n",
       "      <td>8</td>\n",
       "      <td>5</td>\n",
       "      <td>66.0</td>\n",
       "    </tr>\n",
       "  </tbody>\n",
       "</table>\n",
       "</div>"
      ],
      "text/plain": [
       "   Hours Studied  Previous Scores Extracurricular Activities  Sleep Hours  \\\n",
       "0              7               99                        Yes            9   \n",
       "1              4               82                         No            4   \n",
       "2              8               51                        Yes            7   \n",
       "3              5               52                        Yes            5   \n",
       "4              7               75                         No            8   \n",
       "\n",
       "   Sample Question Papers Practiced  Performance Index  \n",
       "0                                 1               91.0  \n",
       "1                                 2               65.0  \n",
       "2                                 2               45.0  \n",
       "3                                 2               36.0  \n",
       "4                                 5               66.0  "
      ]
     },
     "execution_count": 5,
     "metadata": {},
     "output_type": "execute_result"
    }
   ],
   "source": [
    "df.head(5)"
   ]
  },
  {
   "cell_type": "markdown",
   "metadata": {},
   "source": [
    "### Transforming the categorical 'Extracurricular Activities' column into a numerical format for better model compatibility."
   ]
  },
  {
   "cell_type": "code",
   "execution_count": 6,
   "metadata": {},
   "outputs": [
    {
     "data": {
      "text/html": [
       "<div>\n",
       "<style scoped>\n",
       "    .dataframe tbody tr th:only-of-type {\n",
       "        vertical-align: middle;\n",
       "    }\n",
       "\n",
       "    .dataframe tbody tr th {\n",
       "        vertical-align: top;\n",
       "    }\n",
       "\n",
       "    .dataframe thead th {\n",
       "        text-align: right;\n",
       "    }\n",
       "</style>\n",
       "<table border=\"1\" class=\"dataframe\">\n",
       "  <thead>\n",
       "    <tr style=\"text-align: right;\">\n",
       "      <th></th>\n",
       "      <th>Hours Studied</th>\n",
       "      <th>Previous Scores</th>\n",
       "      <th>Extracurricular Activities</th>\n",
       "      <th>Sleep Hours</th>\n",
       "      <th>Sample Question Papers Practiced</th>\n",
       "      <th>Performance Index</th>\n",
       "      <th>Extracurricular Activities1</th>\n",
       "    </tr>\n",
       "  </thead>\n",
       "  <tbody>\n",
       "    <tr>\n",
       "      <th>0</th>\n",
       "      <td>7</td>\n",
       "      <td>99</td>\n",
       "      <td>Yes</td>\n",
       "      <td>9</td>\n",
       "      <td>1</td>\n",
       "      <td>91.0</td>\n",
       "      <td>1</td>\n",
       "    </tr>\n",
       "    <tr>\n",
       "      <th>1</th>\n",
       "      <td>4</td>\n",
       "      <td>82</td>\n",
       "      <td>No</td>\n",
       "      <td>4</td>\n",
       "      <td>2</td>\n",
       "      <td>65.0</td>\n",
       "      <td>0</td>\n",
       "    </tr>\n",
       "    <tr>\n",
       "      <th>2</th>\n",
       "      <td>8</td>\n",
       "      <td>51</td>\n",
       "      <td>Yes</td>\n",
       "      <td>7</td>\n",
       "      <td>2</td>\n",
       "      <td>45.0</td>\n",
       "      <td>1</td>\n",
       "    </tr>\n",
       "    <tr>\n",
       "      <th>3</th>\n",
       "      <td>5</td>\n",
       "      <td>52</td>\n",
       "      <td>Yes</td>\n",
       "      <td>5</td>\n",
       "      <td>2</td>\n",
       "      <td>36.0</td>\n",
       "      <td>1</td>\n",
       "    </tr>\n",
       "    <tr>\n",
       "      <th>4</th>\n",
       "      <td>7</td>\n",
       "      <td>75</td>\n",
       "      <td>No</td>\n",
       "      <td>8</td>\n",
       "      <td>5</td>\n",
       "      <td>66.0</td>\n",
       "      <td>0</td>\n",
       "    </tr>\n",
       "    <tr>\n",
       "      <th>...</th>\n",
       "      <td>...</td>\n",
       "      <td>...</td>\n",
       "      <td>...</td>\n",
       "      <td>...</td>\n",
       "      <td>...</td>\n",
       "      <td>...</td>\n",
       "      <td>...</td>\n",
       "    </tr>\n",
       "    <tr>\n",
       "      <th>9995</th>\n",
       "      <td>1</td>\n",
       "      <td>49</td>\n",
       "      <td>Yes</td>\n",
       "      <td>4</td>\n",
       "      <td>2</td>\n",
       "      <td>23.0</td>\n",
       "      <td>1</td>\n",
       "    </tr>\n",
       "    <tr>\n",
       "      <th>9996</th>\n",
       "      <td>7</td>\n",
       "      <td>64</td>\n",
       "      <td>Yes</td>\n",
       "      <td>8</td>\n",
       "      <td>5</td>\n",
       "      <td>58.0</td>\n",
       "      <td>1</td>\n",
       "    </tr>\n",
       "    <tr>\n",
       "      <th>9997</th>\n",
       "      <td>6</td>\n",
       "      <td>83</td>\n",
       "      <td>Yes</td>\n",
       "      <td>8</td>\n",
       "      <td>5</td>\n",
       "      <td>74.0</td>\n",
       "      <td>1</td>\n",
       "    </tr>\n",
       "    <tr>\n",
       "      <th>9998</th>\n",
       "      <td>9</td>\n",
       "      <td>97</td>\n",
       "      <td>Yes</td>\n",
       "      <td>7</td>\n",
       "      <td>0</td>\n",
       "      <td>95.0</td>\n",
       "      <td>1</td>\n",
       "    </tr>\n",
       "    <tr>\n",
       "      <th>9999</th>\n",
       "      <td>7</td>\n",
       "      <td>74</td>\n",
       "      <td>No</td>\n",
       "      <td>8</td>\n",
       "      <td>1</td>\n",
       "      <td>64.0</td>\n",
       "      <td>0</td>\n",
       "    </tr>\n",
       "  </tbody>\n",
       "</table>\n",
       "<p>10000 rows × 7 columns</p>\n",
       "</div>"
      ],
      "text/plain": [
       "      Hours Studied  Previous Scores Extracurricular Activities  Sleep Hours  \\\n",
       "0                 7               99                        Yes            9   \n",
       "1                 4               82                         No            4   \n",
       "2                 8               51                        Yes            7   \n",
       "3                 5               52                        Yes            5   \n",
       "4                 7               75                         No            8   \n",
       "...             ...              ...                        ...          ...   \n",
       "9995              1               49                        Yes            4   \n",
       "9996              7               64                        Yes            8   \n",
       "9997              6               83                        Yes            8   \n",
       "9998              9               97                        Yes            7   \n",
       "9999              7               74                         No            8   \n",
       "\n",
       "      Sample Question Papers Practiced  Performance Index  \\\n",
       "0                                    1               91.0   \n",
       "1                                    2               65.0   \n",
       "2                                    2               45.0   \n",
       "3                                    2               36.0   \n",
       "4                                    5               66.0   \n",
       "...                                ...                ...   \n",
       "9995                                 2               23.0   \n",
       "9996                                 5               58.0   \n",
       "9997                                 5               74.0   \n",
       "9998                                 0               95.0   \n",
       "9999                                 1               64.0   \n",
       "\n",
       "      Extracurricular Activities1  \n",
       "0                               1  \n",
       "1                               0  \n",
       "2                               1  \n",
       "3                               1  \n",
       "4                               0  \n",
       "...                           ...  \n",
       "9995                            1  \n",
       "9996                            1  \n",
       "9997                            1  \n",
       "9998                            1  \n",
       "9999                            0  \n",
       "\n",
       "[10000 rows x 7 columns]"
      ]
     },
     "execution_count": 6,
     "metadata": {},
     "output_type": "execute_result"
    }
   ],
   "source": [
    "df.columns\n",
    "df['Extracurricular Activities1'] = df['Extracurricular Activities'].map({'Yes': 1, 'No': 0})\n",
    "df"
   ]
  },
  {
   "cell_type": "markdown",
   "metadata": {},
   "source": [
    "\n",
    "\n",
    "### Identifying the independent variables (X) and the dependent variable (y)."
   ]
  },
  {
   "cell_type": "code",
   "execution_count": 7,
   "metadata": {},
   "outputs": [],
   "source": [
    "\n",
    "# independent feature and dependent features\n",
    "X= df[['Hours Studied', 'Previous Scores', 'Extracurricular Activities1',\n",
    "       'Sleep Hours', 'Sample Question Papers Practiced']]\n",
    "y= df['Performance Index']\n",
    "\n"
   ]
  },
  {
   "cell_type": "markdown",
   "metadata": {},
   "source": [
    " ### This code snippet takes the prepared data (X and y) and divides it into training and testing sets. The model will be trained using the training data (X_train, y_train) and then its performance will be assessed using the testing data (X_test, y_test). The split ratio is 70% for training and 30% for testing, and the random_state ensures the split is reproducible."
   ]
  },
  {
   "cell_type": "code",
   "execution_count": 8,
   "metadata": {},
   "outputs": [],
   "source": [
    "from sklearn.model_selection import train_test_split\n",
    "\n",
    "X_train, X_test, y_train, y_test = train_test_split(\n",
    "    X, y, test_size=0.30, random_state=42)"
   ]
  },
  {
   "cell_type": "code",
   "execution_count": 9,
   "metadata": {},
   "outputs": [
    {
     "data": {
      "text/html": [
       "<div>\n",
       "<style scoped>\n",
       "    .dataframe tbody tr th:only-of-type {\n",
       "        vertical-align: middle;\n",
       "    }\n",
       "\n",
       "    .dataframe tbody tr th {\n",
       "        vertical-align: top;\n",
       "    }\n",
       "\n",
       "    .dataframe thead th {\n",
       "        text-align: right;\n",
       "    }\n",
       "</style>\n",
       "<table border=\"1\" class=\"dataframe\">\n",
       "  <thead>\n",
       "    <tr style=\"text-align: right;\">\n",
       "      <th></th>\n",
       "      <th>Hours Studied</th>\n",
       "      <th>Previous Scores</th>\n",
       "      <th>Extracurricular Activities1</th>\n",
       "      <th>Sleep Hours</th>\n",
       "      <th>Sample Question Papers Practiced</th>\n",
       "    </tr>\n",
       "  </thead>\n",
       "  <tbody>\n",
       "    <tr>\n",
       "      <th>9069</th>\n",
       "      <td>4</td>\n",
       "      <td>99</td>\n",
       "      <td>1</td>\n",
       "      <td>6</td>\n",
       "      <td>1</td>\n",
       "    </tr>\n",
       "    <tr>\n",
       "      <th>2603</th>\n",
       "      <td>6</td>\n",
       "      <td>90</td>\n",
       "      <td>1</td>\n",
       "      <td>9</td>\n",
       "      <td>3</td>\n",
       "    </tr>\n",
       "    <tr>\n",
       "      <th>7738</th>\n",
       "      <td>8</td>\n",
       "      <td>57</td>\n",
       "      <td>0</td>\n",
       "      <td>6</td>\n",
       "      <td>1</td>\n",
       "    </tr>\n",
       "    <tr>\n",
       "      <th>1579</th>\n",
       "      <td>6</td>\n",
       "      <td>92</td>\n",
       "      <td>1</td>\n",
       "      <td>8</td>\n",
       "      <td>7</td>\n",
       "    </tr>\n",
       "    <tr>\n",
       "      <th>5058</th>\n",
       "      <td>6</td>\n",
       "      <td>64</td>\n",
       "      <td>1</td>\n",
       "      <td>8</td>\n",
       "      <td>4</td>\n",
       "    </tr>\n",
       "    <tr>\n",
       "      <th>...</th>\n",
       "      <td>...</td>\n",
       "      <td>...</td>\n",
       "      <td>...</td>\n",
       "      <td>...</td>\n",
       "      <td>...</td>\n",
       "    </tr>\n",
       "    <tr>\n",
       "      <th>5734</th>\n",
       "      <td>8</td>\n",
       "      <td>50</td>\n",
       "      <td>1</td>\n",
       "      <td>6</td>\n",
       "      <td>6</td>\n",
       "    </tr>\n",
       "    <tr>\n",
       "      <th>5191</th>\n",
       "      <td>4</td>\n",
       "      <td>68</td>\n",
       "      <td>0</td>\n",
       "      <td>9</td>\n",
       "      <td>3</td>\n",
       "    </tr>\n",
       "    <tr>\n",
       "      <th>5390</th>\n",
       "      <td>9</td>\n",
       "      <td>48</td>\n",
       "      <td>0</td>\n",
       "      <td>7</td>\n",
       "      <td>6</td>\n",
       "    </tr>\n",
       "    <tr>\n",
       "      <th>860</th>\n",
       "      <td>1</td>\n",
       "      <td>47</td>\n",
       "      <td>0</td>\n",
       "      <td>9</td>\n",
       "      <td>0</td>\n",
       "    </tr>\n",
       "    <tr>\n",
       "      <th>7270</th>\n",
       "      <td>2</td>\n",
       "      <td>46</td>\n",
       "      <td>0</td>\n",
       "      <td>6</td>\n",
       "      <td>6</td>\n",
       "    </tr>\n",
       "  </tbody>\n",
       "</table>\n",
       "<p>7000 rows × 5 columns</p>\n",
       "</div>"
      ],
      "text/plain": [
       "      Hours Studied  Previous Scores  Extracurricular Activities1  \\\n",
       "9069              4               99                            1   \n",
       "2603              6               90                            1   \n",
       "7738              8               57                            0   \n",
       "1579              6               92                            1   \n",
       "5058              6               64                            1   \n",
       "...             ...              ...                          ...   \n",
       "5734              8               50                            1   \n",
       "5191              4               68                            0   \n",
       "5390              9               48                            0   \n",
       "860               1               47                            0   \n",
       "7270              2               46                            0   \n",
       "\n",
       "      Sleep Hours  Sample Question Papers Practiced  \n",
       "9069            6                                 1  \n",
       "2603            9                                 3  \n",
       "7738            6                                 1  \n",
       "1579            8                                 7  \n",
       "5058            8                                 4  \n",
       "...           ...                               ...  \n",
       "5734            6                                 6  \n",
       "5191            9                                 3  \n",
       "5390            7                                 6  \n",
       "860             9                                 0  \n",
       "7270            6                                 6  \n",
       "\n",
       "[7000 rows x 5 columns]"
      ]
     },
     "execution_count": 9,
     "metadata": {},
     "output_type": "execute_result"
    }
   ],
   "source": [
    "X_train"
   ]
  },
  {
   "cell_type": "code",
   "execution_count": 10,
   "metadata": {},
   "outputs": [
    {
     "data": {
      "text/html": [
       "<div>\n",
       "<style scoped>\n",
       "    .dataframe tbody tr th:only-of-type {\n",
       "        vertical-align: middle;\n",
       "    }\n",
       "\n",
       "    .dataframe tbody tr th {\n",
       "        vertical-align: top;\n",
       "    }\n",
       "\n",
       "    .dataframe thead th {\n",
       "        text-align: right;\n",
       "    }\n",
       "</style>\n",
       "<table border=\"1\" class=\"dataframe\">\n",
       "  <thead>\n",
       "    <tr style=\"text-align: right;\">\n",
       "      <th></th>\n",
       "      <th>Hours Studied</th>\n",
       "      <th>Previous Scores</th>\n",
       "      <th>Extracurricular Activities1</th>\n",
       "      <th>Sleep Hours</th>\n",
       "      <th>Sample Question Papers Practiced</th>\n",
       "    </tr>\n",
       "  </thead>\n",
       "  <tbody>\n",
       "    <tr>\n",
       "      <th>6252</th>\n",
       "      <td>5</td>\n",
       "      <td>69</td>\n",
       "      <td>0</td>\n",
       "      <td>8</td>\n",
       "      <td>2</td>\n",
       "    </tr>\n",
       "    <tr>\n",
       "      <th>4684</th>\n",
       "      <td>2</td>\n",
       "      <td>46</td>\n",
       "      <td>1</td>\n",
       "      <td>4</td>\n",
       "      <td>8</td>\n",
       "    </tr>\n",
       "    <tr>\n",
       "      <th>1731</th>\n",
       "      <td>7</td>\n",
       "      <td>56</td>\n",
       "      <td>1</td>\n",
       "      <td>7</td>\n",
       "      <td>5</td>\n",
       "    </tr>\n",
       "    <tr>\n",
       "      <th>4742</th>\n",
       "      <td>6</td>\n",
       "      <td>42</td>\n",
       "      <td>1</td>\n",
       "      <td>8</td>\n",
       "      <td>5</td>\n",
       "    </tr>\n",
       "    <tr>\n",
       "      <th>4521</th>\n",
       "      <td>7</td>\n",
       "      <td>53</td>\n",
       "      <td>0</td>\n",
       "      <td>4</td>\n",
       "      <td>6</td>\n",
       "    </tr>\n",
       "    <tr>\n",
       "      <th>...</th>\n",
       "      <td>...</td>\n",
       "      <td>...</td>\n",
       "      <td>...</td>\n",
       "      <td>...</td>\n",
       "      <td>...</td>\n",
       "    </tr>\n",
       "    <tr>\n",
       "      <th>8014</th>\n",
       "      <td>6</td>\n",
       "      <td>42</td>\n",
       "      <td>1</td>\n",
       "      <td>9</td>\n",
       "      <td>5</td>\n",
       "    </tr>\n",
       "    <tr>\n",
       "      <th>1074</th>\n",
       "      <td>2</td>\n",
       "      <td>60</td>\n",
       "      <td>0</td>\n",
       "      <td>7</td>\n",
       "      <td>7</td>\n",
       "    </tr>\n",
       "    <tr>\n",
       "      <th>3063</th>\n",
       "      <td>5</td>\n",
       "      <td>48</td>\n",
       "      <td>1</td>\n",
       "      <td>6</td>\n",
       "      <td>4</td>\n",
       "    </tr>\n",
       "    <tr>\n",
       "      <th>6487</th>\n",
       "      <td>3</td>\n",
       "      <td>86</td>\n",
       "      <td>1</td>\n",
       "      <td>9</td>\n",
       "      <td>5</td>\n",
       "    </tr>\n",
       "    <tr>\n",
       "      <th>4705</th>\n",
       "      <td>6</td>\n",
       "      <td>43</td>\n",
       "      <td>1</td>\n",
       "      <td>6</td>\n",
       "      <td>4</td>\n",
       "    </tr>\n",
       "  </tbody>\n",
       "</table>\n",
       "<p>3000 rows × 5 columns</p>\n",
       "</div>"
      ],
      "text/plain": [
       "      Hours Studied  Previous Scores  Extracurricular Activities1  \\\n",
       "6252              5               69                            0   \n",
       "4684              2               46                            1   \n",
       "1731              7               56                            1   \n",
       "4742              6               42                            1   \n",
       "4521              7               53                            0   \n",
       "...             ...              ...                          ...   \n",
       "8014              6               42                            1   \n",
       "1074              2               60                            0   \n",
       "3063              5               48                            1   \n",
       "6487              3               86                            1   \n",
       "4705              6               43                            1   \n",
       "\n",
       "      Sleep Hours  Sample Question Papers Practiced  \n",
       "6252            8                                 2  \n",
       "4684            4                                 8  \n",
       "1731            7                                 5  \n",
       "4742            8                                 5  \n",
       "4521            4                                 6  \n",
       "...           ...                               ...  \n",
       "8014            9                                 5  \n",
       "1074            7                                 7  \n",
       "3063            6                                 4  \n",
       "6487            9                                 5  \n",
       "4705            6                                 4  \n",
       "\n",
       "[3000 rows x 5 columns]"
      ]
     },
     "execution_count": 10,
     "metadata": {},
     "output_type": "execute_result"
    }
   ],
   "source": [
    "X_test"
   ]
  },
  {
   "cell_type": "markdown",
   "metadata": {},
   "source": [
    "## Data Standardization\n",
    "This part of the code focuses on standardizing the dataset, specifically the independent variables (features) stored in X_train and X_test. Standardization is a crucial preprocessing step in machine learning that transforms the data to have zero mean and unit variance.\n",
    "\n",
    "### Why is this important?\n",
    "\n",
    "Many machine learning algorithms perform better when the features are on a similar scale. This is especially true for algorithms that rely on distance calculations, such as k-nearest neighbors and support vector machines.\n",
    "Standardization prevents features with larger values from dominating the model's learning process.\n",
    "It can help the model converge faster during training."
   ]
  },
  {
   "cell_type": "markdown",
   "metadata": {},
   "source": [
    "### Fit and transform the training data:\n",
    "\n",
    "fit_transform() is a method of the StandardScaler object.\n",
    "\n",
    "It first calculates the mean and standard deviation of each feature in the X_train dataset (the fitting part).\n",
    "\n",
    "Then, it uses these calculated values to transform the X_train data by subtracting the mean and dividing by the standard deviation for each feature (the transforming part).\n",
    "\n",
    "### Transform the testing data:\n",
    "\n",
    "This line applies the same scaling transformation to the X_test data.\n",
    "\n",
    "It's important to use the mean and standard deviation calculated from the training data to transform the testing data. \n",
    "\n",
    "This helps ensure that the testing data is scaled consistently with the training data and prevents information leakage from the testing set into the model training process.\n",
    "\n",
    "In essence, these lines of code prepare the data for the machine learning model by ensuring that all features have a similar range of values, which can lead to improved model performance."
   ]
  },
  {
   "cell_type": "code",
   "execution_count": 11,
   "metadata": {},
   "outputs": [],
   "source": [
    "## Strandarizing the dataset\n",
    "\n",
    "from sklearn.preprocessing import StandardScaler\n",
    "\n",
    "sc = StandardScaler()\n",
    "X_train = sc.fit_transform(X_train)\n",
    "X_test= sc.transform(X_test)"
   ]
  },
  {
   "cell_type": "code",
   "execution_count": 12,
   "metadata": {},
   "outputs": [
    {
     "data": {
      "text/plain": [
       "array([[-0.37921729,  1.69543433,  1.01962103, -0.31944271, -1.26226064],\n",
       "       [ 0.39110222,  1.17637842,  1.01962103,  1.44869036, -0.56482402],\n",
       "       [ 1.16142173, -0.72682657, -0.98075655, -0.31944271, -1.26226064],\n",
       "       ...,\n",
       "       [ 1.54658149, -1.24588248, -0.98075655,  0.26993498,  0.4813309 ],\n",
       "       [-1.53469656, -1.30355536, -0.98075655,  1.44869036, -1.61097894],\n",
       "       [-1.1495368 , -1.36122824, -0.98075655, -0.31944271,  0.4813309 ]])"
      ]
     },
     "execution_count": 12,
     "metadata": {},
     "output_type": "execute_result"
    }
   ],
   "source": [
    "X_train"
   ]
  },
  {
   "cell_type": "code",
   "execution_count": 13,
   "metadata": {},
   "outputs": [
    {
     "data": {
      "text/plain": [
       "array([[ 0.00594246, -0.03475203, -0.98075655,  0.85931267, -0.91354233],\n",
       "       [-1.1495368 , -1.36122824,  1.01962103, -1.49819809,  1.17876751],\n",
       "       [ 0.77626198, -0.78449945,  1.01962103,  0.26993498,  0.13261259],\n",
       "       ...,\n",
       "       [ 0.00594246, -1.24588248,  1.01962103, -0.31944271, -0.21610572],\n",
       "       [-0.76437705,  0.94568691,  1.01962103,  1.44869036,  0.13261259],\n",
       "       [ 0.39110222, -1.53424687,  1.01962103, -0.31944271, -0.21610572]])"
      ]
     },
     "execution_count": 13,
     "metadata": {},
     "output_type": "execute_result"
    }
   ],
   "source": [
    "X_test"
   ]
  },
  {
   "cell_type": "markdown",
   "metadata": {},
   "source": [
    "## Inverse Transform\n",
    "\n",
    "sc: This refers to the StandardScaler object that was created and fitted earlier.\n",
    "\n",
    "inverse_transform(): This is a method of the StandardScaler object. Its purpose is to reverse the standardization process.\n",
    "\n",
    "X_train: This is the standardized training data that was previously transformed using sc.fit_transform().\n",
    "\n",
    "What it does:\n",
    "\n",
    "This line takes the standardized X_train data and converts it back to its original scale before standardization. It does this by using the stored mean and standard deviation that were calculated during the fit step.\n",
    "\n",
    "In essence, it undoes the transformation performed by sc.fit_transform(). This can be useful for various reasons, such as interpreting the model's coefficients in the original feature space or comparing the standardized and original data"
   ]
  },
  {
   "cell_type": "code",
   "execution_count": 14,
   "metadata": {},
   "outputs": [
    {
     "data": {
      "text/plain": [
       "array([[ 4., 99.,  1.,  6.,  1.],\n",
       "       [ 6., 90.,  1.,  9.,  3.],\n",
       "       [ 8., 57.,  0.,  6.,  1.],\n",
       "       ...,\n",
       "       [ 9., 48.,  0.,  7.,  6.],\n",
       "       [ 1., 47.,  0.,  9.,  0.],\n",
       "       [ 2., 46.,  0.,  6.,  6.]])"
      ]
     },
     "execution_count": 14,
     "metadata": {},
     "output_type": "execute_result"
    }
   ],
   "source": [
    "sc.inverse_transform(X_train)"
   ]
  },
  {
   "cell_type": "markdown",
   "metadata": {},
   "source": [
    "## Cross Validation\n",
    "\n",
    "This code snippet aims to evaluate the performance of a Linear Regression model using a technique called cross-validation.\n",
    "\n",
    "Model Creation: A Linear Regression model is created and stored in the regression variable.\n",
    "\n",
    "Cross-Validation: The cross_val_score function is used to perform 10-fold cross-validation. This involves splitting the training data into 10 parts, training the model on 9 parts, and testing it on the remaining part. This process is repeated 10 times, with each part serving as the test set once.\n",
    "\n",
    "Evaluation Metric: The model's performance is evaluated using 'neg_mean_squared_error', which calculates the average squared difference between the predicted and actual values. The result is negated as cross_val_score maximizes scores.\n",
    "\n",
    "Results: The mse variable stores the negative mean squared error for each of the 10 folds. These values are then printed, providing an insight into the model's performance across different data subsets.\n",
    "\n",
    "Essentially, this code helps assess how well the Linear Regression model generalizes to unseen data by evaluating its performance on different subsets of the training data. The lower the negative mean squared error, the better the model's performance."
   ]
  },
  {
   "cell_type": "code",
   "execution_count": 15,
   "metadata": {},
   "outputs": [
    {
     "data": {
      "text/plain": [
       "array([-4.43921837, -4.6044832 , -4.02746316, -4.06970865, -4.01545136,\n",
       "       -4.16702941, -4.0144711 , -4.52862511, -4.23617248, -3.90091517])"
      ]
     },
     "execution_count": 15,
     "metadata": {},
     "output_type": "execute_result"
    }
   ],
   "source": [
    "from sklearn.linear_model import LinearRegression\n",
    "\n",
    "## Cross Validation\n",
    "\n",
    "from sklearn.model_selection import cross_val_score\n",
    "regression = LinearRegression()\n",
    "\n",
    "mse = cross_val_score(regression,X_train,y_train, scoring= 'neg_mean_squared_error', cv=10)\n",
    "mse"
   ]
  },
  {
   "cell_type": "markdown",
   "metadata": {},
   "source": [
    "### finding mean of mse- mean squared error"
   ]
  },
  {
   "cell_type": "code",
   "execution_count": 16,
   "metadata": {},
   "outputs": [
    {
     "data": {
      "text/plain": [
       "-4.200353799927402"
      ]
     },
     "execution_count": 16,
     "metadata": {},
     "output_type": "execute_result"
    }
   ],
   "source": [
    "np.mean(mse)"
   ]
  },
  {
   "cell_type": "markdown",
   "metadata": {},
   "source": [
    "## Predication\n",
    "\n",
    "whats happining here? \n",
    " This line uses the trained model to predict the 'Performance Index' for the test dataset (X_test) and stores those predictions in y_pred. These predictions can then be compared to the actual values (y_test) to evaluate the model's accuracy.\n",
    "\n",
    "In summary, these two lines represent the core of using a Linear Regression model: training it on a portion of the data and then using it to predict outcomes for unseen data."
   ]
  },
  {
   "cell_type": "markdown",
   "metadata": {},
   "source": [
    "y_pred represents the predicted values of the 'Performance Index' generated by your trained model when applied to the test data (X_test). You can then compare these predictions (y_pred) to the actual 'Performance Index' values (y_test) to assess the accuracy of your model."
   ]
  },
  {
   "cell_type": "code",
   "execution_count": 17,
   "metadata": {},
   "outputs": [
    {
     "data": {
      "text/plain": [
       "array([54.74728554, 22.61884434, 47.93665124, ..., 33.42451751,\n",
       "       67.92578967, 31.20587077])"
      ]
     },
     "execution_count": 17,
     "metadata": {},
     "output_type": "execute_result"
    }
   ],
   "source": [
    "## Predication\n",
    "\n",
    "regression.fit(X_train, y_train)\n",
    "y_pred = regression.predict(X_test)\n",
    "y_pred"
   ]
  },
  {
   "cell_type": "markdown",
   "metadata": {},
   "source": [
    "these lines of code are used to visualize the distribution of the residuals (the differences between the actual and predicted values) of a model's predictions. This is a common step in model evaluation, as the distribution of residuals can provide insights into the performance and potential biases of the model. Ideally, we want to see a distribution of residuals that is centered around zero and roughly bell-shaped (normal distribution), indicating that the model's errors are random and unbiased."
   ]
  },
  {
   "cell_type": "code",
   "execution_count": 18,
   "metadata": {},
   "outputs": [
    {
     "name": "stderr",
     "output_type": "stream",
     "text": [
      "C:\\Users\\dell\\AppData\\Local\\Temp\\ipykernel_2060\\3179445506.py:2: UserWarning: \n",
      "\n",
      "`distplot` is a deprecated function and will be removed in seaborn v0.14.0.\n",
      "\n",
      "Please adapt your code to use either `displot` (a figure-level function with\n",
      "similar flexibility) or `histplot` (an axes-level function for histograms).\n",
      "\n",
      "For a guide to updating your code to use the new functions, please see\n",
      "https://gist.github.com/mwaskom/de44147ed2974457ad6372750bbe5751\n",
      "\n",
      "  sns.distplot(y_test-y_pred)\n"
     ]
    },
    {
     "data": {
      "image/png": "[encoded data removed]",
      "text/plain": [
       "<Figure size 640x480 with 1 Axes>"
      ]
     },
     "metadata": {},
     "output_type": "display_data"
    }
   ],
   "source": [
    "import seaborn as sns\n",
    "sns.distplot(y_test-y_pred)\n",
    "plt.show()"
   ]
  },
  {
   "cell_type": "markdown",
   "metadata": {},
   "source": [
    "The provided code snippet calculates and displays the R-squared score, stored in the score variable, to evaluate the performance of a regression model in predicting student performance. The R-squared score is a statistical measure indicating how well the model's predictions fit the actual data, with higher scores representing better performance. This metric helps assess the goodness of fit of the model and its ability to explain the variance in student performance based on the input features. The score variable holds the calculated R-squared value and can be used to compare models or track model improvement."
   ]
  },
  {
   "cell_type": "code",
   "execution_count": 19,
   "metadata": {},
   "outputs": [
    {
     "data": {
      "text/plain": [
       "0.9890110607021136"
      ]
     },
     "execution_count": 19,
     "metadata": {},
     "output_type": "execute_result"
    }
   ],
   "source": [
    "from sklearn.metrics import r2_score\n",
    "score= r2_score(y_test, y_pred)\n",
    "score"
   ]
  },
  {
   "cell_type": "markdown",
   "metadata": {},
   "source": [
    "## About the score variable:\n",
    "Purpose: The score variable stores the calculated R-squared value, which represents the goodness of fit of the regression model.\n",
    "\n",
    "### Interpretation:\n",
    "A higher score value (closer to 1) indicates that the model is doing a good job of predicting student performance based on the input features.\n",
    "A lower score value (closer to 0) indicates that the model is not performing well and may need improvement.\n",
    "Usage: The score variable can be used to compare the performance of different models or to track the improvement of a model over time."
   ]
  },
  {
   "cell_type": "markdown",
   "metadata": {},
   "source": [
    "## predicting unseen data"
   ]
  },
  {
   "cell_type": "code",
   "execution_count": 28,
   "metadata": {},
   "outputs": [
    {
     "name": "stdout",
     "output_type": "stream",
     "text": [
      "Predicted Performance Index: 74.97768437918774\n"
     ]
    }
   ],
   "source": [
    "\n",
    "def predict_performance(hours_studied, previous_scores, extracurricular_activities, sleep_hours, sample_question_papers):\n",
    "    \"\"\"Predicts student performance index based on given input features.\"\"\"\n",
    "\n",
    "    # Create a DataFrame for the new data point\n",
    "    new_data = pd.DataFrame({\n",
    "        'Hours Studied': [hours_studied],\n",
    "        'Previous Scores': [previous_scores],\n",
    "        'Extracurricular Activities1': [extracurricular_activities1],\n",
    "        'Sleep Hours': [sleep_hours],\n",
    "        'Sample Question Papers Practiced': [sample_question_papers]\n",
    "    })\n",
    "\n",
    "   \n",
    "    # Standardize the new data point using the same scaler used for training data\n",
    "    new_data_scaled = sc.transform(new_data)\n",
    "\n",
    "    # Make the prediction\n",
    "    predicted_performance = regression.predict(new_data_scaled)\n",
    "\n",
    "    return predicted_performance[0]\n",
    "\n",
    "\n",
    "# Example usage:\n",
    "hours_studied = 8\n",
    "previous_scores = 80\n",
    "extracurricular_activities1 = 1  # or '0'\n",
    "sleep_hours = 7\n",
    "sample_question_papers = 4\n",
    "\n",
    "predicted_index = predict_performance(hours_studied, previous_scores, extracurricular_activities1, sleep_hours, sample_question_papers)\n",
    "print(f\"Predicted Performance Index: {predicted_index}\")"
   ]
  },
  {
   "cell_type": "code",
   "execution_count": null,
   "metadata": {},
   "outputs": [],
   "source": []
  }
 ],
 "metadata": {
  "kernelspec": {
   "display_name": "base",
   "language": "python",
   "name": "python3"
  },
  "language_info": {
   "codemirror_mode": {
    "name": "ipython",
    "version": 3
   },
   "file_extension": ".py",
   "mimetype": "text/x-python",
   "name": "python",
   "nbconvert_exporter": "python",
   "pygments_lexer": "ipython3",
   "version": "3.12.4"
  }
 },
 "nbformat": 4,
 "nbformat_minor": 2
}
